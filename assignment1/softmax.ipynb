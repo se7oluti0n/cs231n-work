{
 "cells": [
  {
   "cell_type": "markdown",
   "metadata": {},
   "source": [
    "# Softmax exercise\n",
    "\n",
    "*Complete and hand in this completed worksheet (including its outputs and any supporting code outside of the worksheet) with your assignment submission. For more details see the [assignments page](http://vision.stanford.edu/teaching/cs231n/assignments.html) on the course website.*\n",
    "\n",
    "This exercise is analogous to the SVM exercise. You will:\n",
    "\n",
    "- implement a fully-vectorized **loss function** for the Softmax classifier\n",
    "- implement the fully-vectorized expression for its **analytic gradient**\n",
    "- **check your implementation** with numerical gradient\n",
    "- use a validation set to **tune the learning rate and regularization** strength\n",
    "- **optimize** the loss function with **SGD**\n",
    "- **visualize** the final learned weights\n"
   ]
  },
  {
   "cell_type": "code",
   "execution_count": 1,
   "metadata": {
    "collapsed": false
   },
   "outputs": [],
   "source": [
    "import random\n",
    "import numpy as np\n",
    "from cs231n.data_utils import load_CIFAR10\n",
    "import matplotlib.pyplot as plt\n",
    "%matplotlib inline\n",
    "plt.rcParams['figure.figsize'] = (10.0, 8.0) # set default size of plots\n",
    "plt.rcParams['image.interpolation'] = 'nearest'\n",
    "plt.rcParams['image.cmap'] = 'gray'\n",
    "\n",
    "# for auto-reloading extenrnal modules\n",
    "# see http://stackoverflow.com/questions/1907993/autoreload-of-modules-in-ipython\n",
    "%load_ext autoreload\n",
    "%autoreload 2"
   ]
  },
  {
   "cell_type": "code",
   "execution_count": 2,
   "metadata": {
    "collapsed": false
   },
   "outputs": [
    {
     "name": "stdout",
     "output_type": "stream",
     "text": [
      "Train data shape:  (49000, 3073)\n",
      "Train labels shape:  (49000,)\n",
      "Validation data shape:  (1000, 3073)\n",
      "Validation labels shape:  (1000,)\n",
      "Test data shape:  (1000, 3073)\n",
      "Test labels shape:  (1000,)\n",
      "dev data shape:  (500, 3073)\n",
      "dev labels shape:  (500,)\n"
     ]
    }
   ],
   "source": [
    "def get_CIFAR10_data(num_training=49000, num_validation=1000, num_test=1000, num_dev=500):\n",
    "  \"\"\"\n",
    "  Load the CIFAR-10 dataset from disk and perform preprocessing to prepare\n",
    "  it for the linear classifier. These are the same steps as we used for the\n",
    "  SVM, but condensed to a single function.  \n",
    "  \"\"\"\n",
    "  # Load the raw CIFAR-10 data\n",
    "  cifar10_dir = 'cs231n/datasets/cifar-10-batches-py'\n",
    "  X_train, y_train, X_test, y_test = load_CIFAR10(cifar10_dir)\n",
    "  \n",
    "  # subsample the data\n",
    "  mask = range(num_training, num_training + num_validation)\n",
    "  X_val = X_train[mask]\n",
    "  y_val = y_train[mask]\n",
    "  mask = range(num_training)\n",
    "  X_train = X_train[mask]\n",
    "  y_train = y_train[mask]\n",
    "  mask = range(num_test)\n",
    "  X_test = X_test[mask]\n",
    "  y_test = y_test[mask]\n",
    "  mask = np.random.choice(num_training, num_dev, replace=False)\n",
    "  X_dev = X_train[mask]\n",
    "  y_dev = y_train[mask]\n",
    "  \n",
    "  # Preprocessing: reshape the image data into rows\n",
    "  X_train = np.reshape(X_train, (X_train.shape[0], -1))\n",
    "  X_val = np.reshape(X_val, (X_val.shape[0], -1))\n",
    "  X_test = np.reshape(X_test, (X_test.shape[0], -1))\n",
    "  X_dev = np.reshape(X_dev, (X_dev.shape[0], -1))\n",
    "  \n",
    "  # Normalize the data: subtract the mean image\n",
    "  mean_image = np.mean(X_train, axis = 0)\n",
    "  X_train -= mean_image\n",
    "  X_val -= mean_image\n",
    "  X_test -= mean_image\n",
    "  X_dev -= mean_image\n",
    "  \n",
    "  # add bias dimension and transform into columns\n",
    "  X_train = np.hstack([X_train, np.ones((X_train.shape[0], 1))])\n",
    "  X_val = np.hstack([X_val, np.ones((X_val.shape[0], 1))])\n",
    "  X_test = np.hstack([X_test, np.ones((X_test.shape[0], 1))])\n",
    "  X_dev = np.hstack([X_dev, np.ones((X_dev.shape[0], 1))])\n",
    "  \n",
    "  return X_train, y_train, X_val, y_val, X_test, y_test, X_dev, y_dev\n",
    "\n",
    "\n",
    "# Invoke the above function to get our data.\n",
    "X_train, y_train, X_val, y_val, X_test, y_test, X_dev, y_dev = get_CIFAR10_data()\n",
    "print 'Train data shape: ', X_train.shape\n",
    "print 'Train labels shape: ', y_train.shape\n",
    "print 'Validation data shape: ', X_val.shape\n",
    "print 'Validation labels shape: ', y_val.shape\n",
    "print 'Test data shape: ', X_test.shape\n",
    "print 'Test labels shape: ', y_test.shape\n",
    "print 'dev data shape: ', X_dev.shape\n",
    "print 'dev labels shape: ', y_dev.shape"
   ]
  },
  {
   "cell_type": "markdown",
   "metadata": {},
   "source": [
    "## Softmax Classifier\n",
    "\n",
    "Your code for this section will all be written inside **cs231n/classifiers/softmax.py**. \n"
   ]
  },
  {
   "cell_type": "code",
   "execution_count": 3,
   "metadata": {
    "collapsed": false
   },
   "outputs": [
    {
     "name": "stdout",
     "output_type": "stream",
     "text": [
      "loss: 2.356902\n",
      "sanity check: 2.302585\n"
     ]
    }
   ],
   "source": [
    "# First implement the naive softmax loss function with nested loops.\n",
    "# Open the file cs231n/classifiers/softmax.py and implement the\n",
    "# softmax_loss_naive function.\n",
    "\n",
    "from cs231n.classifiers.softmax import softmax_loss_naive\n",
    "import time\n",
    "\n",
    "# Generate a random softmax weight matrix and use it to compute the loss.\n",
    "W = np.random.randn(3073, 10) * 0.0001\n",
    "loss, grad = softmax_loss_naive(W, X_dev, y_dev, 0.0)\n",
    "\n",
    "# As a rough sanity check, our loss should be something close to -log(0.1).\n",
    "print 'loss: %f' % loss\n",
    "print 'sanity check: %f' % (-np.log(0.1))"
   ]
  },
  {
   "cell_type": "markdown",
   "metadata": {},
   "source": [
    "## Inline Question 1:\n",
    "Why do we expect our loss to be close to -log(0.1)? Explain briefly.**\n",
    "\n",
    "**Your answer:** *Fill this in*\n"
   ]
  },
  {
   "cell_type": "code",
   "execution_count": 33,
   "metadata": {
    "collapsed": false
   },
   "outputs": [
    {
     "name": "stdout",
     "output_type": "stream",
     "text": [
      "numerical: -1.364903 analytic: -1.364903, relative error: 1.141037e-10\n",
      "numerical: 0.644465 analytic: 0.644464, relative error: 7.977163e-08\n",
      "numerical: 3.146095 analytic: 3.146094, relative error: 6.262161e-09\n",
      "numerical: -0.029895 analytic: -0.029895, relative error: 1.573429e-07\n",
      "numerical: -5.223308 analytic: -5.223308, relative error: 5.053736e-09\n",
      "numerical: -0.632474 analytic: -0.632474, relative error: 1.266942e-08\n",
      "numerical: 2.384984 analytic: 2.384984, relative error: 2.298089e-09\n",
      "numerical: 0.984699 analytic: 0.984699, relative error: 6.600649e-08\n",
      "numerical: 0.191712 analytic: 0.191712, relative error: 3.278008e-07\n",
      "numerical: -3.981459 analytic: -3.981459, relative error: 1.457157e-08\n",
      "numerical: 2.086831 analytic: 2.086831, relative error: 8.000500e-09\n",
      "numerical: 4.589319 analytic: 4.589319, relative error: 7.519354e-09\n",
      "numerical: 0.626392 analytic: 0.626392, relative error: 7.354217e-09\n",
      "numerical: -0.576853 analytic: -0.576853, relative error: 3.939696e-08\n",
      "numerical: -1.569953 analytic: -1.569953, relative error: 3.434888e-09\n",
      "numerical: 4.638552 analytic: 4.638552, relative error: 3.008573e-09\n",
      "numerical: -4.618923 analytic: -4.618923, relative error: 8.382070e-10\n",
      "numerical: 0.411344 analytic: 0.411344, relative error: 1.637514e-07\n",
      "numerical: 1.544990 analytic: 1.544990, relative error: 6.671370e-09\n",
      "numerical: -4.626125 analytic: -4.626125, relative error: 7.562057e-09\n"
     ]
    }
   ],
   "source": [
    "# Complete the implementation of softmax_loss_naive and implement a (naive)\n",
    "# version of the gradient that uses nested loops.\n",
    "loss, grad = softmax_loss_naive(W, X_dev, y_dev, 0.0)\n",
    "\n",
    "# As we did for the SVM, use numeric gradient checking as a debugging tool.\n",
    "# The numeric gradient should be close to the analytic gradient.\n",
    "from cs231n.gradient_check import grad_check_sparse\n",
    "f = lambda w: softmax_loss_naive(w, X_dev, y_dev, 0.0)[0]\n",
    "grad_numerical = grad_check_sparse(f, W, grad, 10)\n",
    "\n",
    "# similar to SVM case, do another gradient check with regularization\n",
    "loss, grad = softmax_loss_naive(W, X_dev, y_dev, 1e2)\n",
    "f = lambda w: softmax_loss_naive(w, X_dev, y_dev, 1e2)[0]\n",
    "grad_numerical = grad_check_sparse(f, W, grad, 10)"
   ]
  },
  {
   "cell_type": "code",
   "execution_count": 34,
   "metadata": {
    "collapsed": false
   },
   "outputs": [
    {
     "name": "stdout",
     "output_type": "stream",
     "text": [
      "naive loss: 2.389830e+00 computed in 0.137667s\n",
      "vectorized loss: 2.389830e+00 computed in 0.016103s\n",
      "Loss difference: 0.000000\n",
      "Gradient difference: 0.000000\n"
     ]
    }
   ],
   "source": [
    "# Now that we have a naive implementation of the softmax loss function and its gradient,\n",
    "# implement a vectorized version in softmax_loss_vectorized.\n",
    "# The two versions should compute the same results, but the vectorized version should be\n",
    "# much faster.\n",
    "tic = time.time()\n",
    "loss_naive, grad_naive = softmax_loss_naive(W, X_dev, y_dev, 0.00001)\n",
    "toc = time.time()\n",
    "print 'naive loss: %e computed in %fs' % (loss_naive, toc - tic)\n",
    "\n",
    "from cs231n.classifiers.softmax import softmax_loss_vectorized\n",
    "tic = time.time()\n",
    "loss_vectorized, grad_vectorized = softmax_loss_vectorized(W, X_dev, y_dev, 0.00001)\n",
    "toc = time.time()\n",
    "print 'vectorized loss: %e computed in %fs' % (loss_vectorized, toc - tic)\n",
    "\n",
    "# As we did for the SVM, we use the Frobenius norm to compare the two versions\n",
    "# of the gradient.\n",
    "grad_difference = np.linalg.norm(grad_naive - grad_vectorized, ord='fro')\n",
    "print 'Loss difference: %f' % np.abs(loss_naive - loss_vectorized)\n",
    "print 'Gradient difference: %f' % grad_difference"
   ]
  },
  {
   "cell_type": "code",
   "execution_count": 48,
   "metadata": {
    "collapsed": false
   },
   "outputs": [
    {
     "name": "stdout",
     "output_type": "stream",
     "text": [
      "[  1.00000000e-07   1.49534878e-07   2.23606798e-07   3.34370152e-07\n",
      "   5.00000000e-07]\n",
      "[   1000.            4728.70804502   22360.679775    105737.12634406\n",
      "  500000.        ]\n",
      "lr 1.000000e-07 reg 1.000000e+03 train accuracy: 0.271163 val accuracy: 0.279000\n",
      "lr 1.000000e-07 reg 4.728708e+03 train accuracy: 0.319020 val accuracy: 0.307000\n",
      "lr 1.000000e-07 reg 2.236068e+04 train accuracy: 0.357041 val accuracy: 0.372000\n",
      "lr 1.000000e-07 reg 1.057371e+05 train accuracy: 0.308959 val accuracy: 0.318000\n",
      "lr 1.000000e-07 reg 5.000000e+05 train accuracy: 0.258327 val accuracy: 0.266000\n",
      "lr 1.495349e-07 reg 1.000000e+03 train accuracy: 0.290429 val accuracy: 0.283000\n",
      "lr 1.495349e-07 reg 4.728708e+03 train accuracy: 0.358000 val accuracy: 0.347000\n",
      "lr 1.495349e-07 reg 2.236068e+04 train accuracy: 0.351571 val accuracy: 0.359000\n",
      "lr 1.495349e-07 reg 1.057371e+05 train accuracy: 0.303286 val accuracy: 0.319000\n",
      "lr 1.495349e-07 reg 5.000000e+05 train accuracy: 0.257184 val accuracy: 0.267000\n",
      "lr 2.236068e-07 reg 1.000000e+03 train accuracy: 0.320224 val accuracy: 0.287000\n",
      "lr 2.236068e-07 reg 4.728708e+03 train accuracy: 0.385469 val accuracy: 0.384000\n",
      "lr 2.236068e-07 reg 2.236068e+04 train accuracy: 0.355122 val accuracy: 0.363000\n",
      "lr 2.236068e-07 reg 1.057371e+05 train accuracy: 0.311612 val accuracy: 0.331000\n",
      "lr 2.236068e-07 reg 5.000000e+05 train accuracy: 0.261327 val accuracy: 0.265000\n",
      "lr 3.343702e-07 reg 1.000000e+03 train accuracy: 0.355408 val accuracy: 0.376000\n",
      "lr 3.343702e-07 reg 4.728708e+03 train accuracy: 0.389286 val accuracy: 0.397000\n",
      "lr 3.343702e-07 reg 2.236068e+04 train accuracy: 0.354673 val accuracy: 0.379000\n",
      "lr 3.343702e-07 reg 1.057371e+05 train accuracy: 0.306816 val accuracy: 0.326000\n",
      "lr 3.343702e-07 reg 5.000000e+05 train accuracy: 0.277592 val accuracy: 0.278000\n",
      "lr 5.000000e-07 reg 1.000000e+03 train accuracy: 0.383959 val accuracy: 0.376000\n",
      "lr 5.000000e-07 reg 4.728708e+03 train accuracy: 0.387367 val accuracy: 0.399000\n",
      "lr 5.000000e-07 reg 2.236068e+04 train accuracy: 0.343367 val accuracy: 0.357000\n",
      "lr 5.000000e-07 reg 1.057371e+05 train accuracy: 0.304959 val accuracy: 0.326000\n",
      "lr 5.000000e-07 reg 5.000000e+05 train accuracy: 0.272102 val accuracy: 0.267000\n",
      "best validation accuracy achieved during cross-validation: 0.399000\n"
     ]
    }
   ],
   "source": [
    "# Use the validation set to tune hyperparameters (regularization strength and\n",
    "# learning rate). You should experiment with different ranges for the learning\n",
    "# rates and regularization strengths; if you are careful you should be able to\n",
    "# get a classification accuracy of over 0.35 on the validation set.\n",
    "from cs231n.classifiers import Softmax\n",
    "results = {}\n",
    "best_val = -1\n",
    "best_softmax = None\n",
    "learning_rates = [1e-7, 5e-7]\n",
    "regularization_strengths = [1e3, 5e5]\n",
    "\n",
    "################################################################################\n",
    "# TODO:                                                                        #\n",
    "# Use the validation set to set the learning rate and regularization strength. #\n",
    "# This should be identical to the validation that you did for the SVM; save    #\n",
    "# the best trained softmax classifer in best_softmax.                          #\n",
    "################################################################################\n",
    "learning_rates_set = np.logspace(np.log10(learning_rates[0]), np.log10(learning_rates[1]), num=5)\n",
    "reg_set = np.logspace(np.log10(regularization_strengths[0]), np.log10(regularization_strengths[1]), num=5)\n",
    "\n",
    "print learning_rates_set\n",
    "print reg_set\n",
    "\n",
    "for rate in learning_rates_set:\n",
    "    for reg in reg_set:\n",
    "        softmax = Softmax()\n",
    "        softmax.train(X_train, y_train, learning_rate=rate, reg=reg,\n",
    "                      num_iters=2000, verbose=False)\n",
    "        y_train_pred = softmax.predict(X_train)\n",
    "        y_val_pred = softmax.predict(X_val)\n",
    "        \n",
    "        train_accuracy = np.mean(y_train == y_train_pred)\n",
    "        val_accuracy = np.mean(y_val == y_val_pred)\n",
    "        \n",
    "        results[(rate, reg)] = (train_accuracy, val_accuracy)\n",
    "        \n",
    "        if val_accuracy > best_val:\n",
    "            best_val = val_accuracy\n",
    "            best_softmax = softmax\n",
    "################################################################################\n",
    "#                              END OF YOUR CODE                                #\n",
    "################################################################################\n",
    "    \n",
    "# Print out results.\n",
    "for lr, reg in sorted(results):\n",
    "    train_accuracy, val_accuracy = results[(lr, reg)]\n",
    "    print 'lr %e reg %e train accuracy: %f val accuracy: %f' % (\n",
    "                lr, reg, train_accuracy, val_accuracy)\n",
    "    \n",
    "print 'best validation accuracy achieved during cross-validation: %f' % best_val"
   ]
  },
  {
   "cell_type": "code",
   "execution_count": 49,
   "metadata": {
    "collapsed": false
   },
   "outputs": [
    {
     "name": "stdout",
     "output_type": "stream",
     "text": [
      "iteration 0 / 10000: loss 7785.902876\n",
      "iteration 100 / 10000: loss 2.243926\n",
      "iteration 200 / 10000: loss 2.241871\n",
      "iteration 300 / 10000: loss 2.252136\n",
      "iteration 400 / 10000: loss 2.231051\n",
      "iteration 500 / 10000: loss 2.227731\n",
      "iteration 600 / 10000: loss 2.275787\n",
      "iteration 700 / 10000: loss 2.257634\n",
      "iteration 800 / 10000: loss 2.245943\n",
      "iteration 900 / 10000: loss 2.243624\n",
      "iteration 1000 / 10000: loss 2.233671\n",
      "iteration 1100 / 10000: loss 2.254409\n",
      "iteration 1200 / 10000: loss 2.244178\n",
      "iteration 1300 / 10000: loss 2.240700\n",
      "iteration 1400 / 10000: loss 2.228290\n",
      "iteration 1500 / 10000: loss 2.255516\n",
      "iteration 1600 / 10000: loss 2.247915\n",
      "iteration 1700 / 10000: loss 2.256358\n",
      "iteration 1800 / 10000: loss 2.277348\n",
      "iteration 1900 / 10000: loss 2.241749\n",
      "iteration 2000 / 10000: loss 2.256513\n",
      "iteration 2100 / 10000: loss 2.234890\n",
      "iteration 2200 / 10000: loss 2.230179\n",
      "iteration 2300 / 10000: loss 2.263008\n",
      "iteration 2400 / 10000: loss 2.253208\n",
      "iteration 2500 / 10000: loss 2.249940\n",
      "iteration 2600 / 10000: loss 2.229098\n",
      "iteration 2700 / 10000: loss 2.233936\n",
      "iteration 2800 / 10000: loss 2.238403\n",
      "iteration 2900 / 10000: loss 2.249752\n",
      "iteration 3000 / 10000: loss 2.231701\n",
      "iteration 3100 / 10000: loss 2.238331\n",
      "iteration 3200 / 10000: loss 2.250901\n",
      "iteration 3300 / 10000: loss 2.251615\n",
      "iteration 3400 / 10000: loss 2.244200\n",
      "iteration 3500 / 10000: loss 2.252002\n",
      "iteration 3600 / 10000: loss 2.246669\n",
      "iteration 3700 / 10000: loss 2.242862\n",
      "iteration 3800 / 10000: loss 2.259221\n",
      "iteration 3900 / 10000: loss 2.241463\n",
      "iteration 4000 / 10000: loss 2.260009\n",
      "iteration 4100 / 10000: loss 2.278665\n",
      "iteration 4200 / 10000: loss 2.238410\n",
      "iteration 4300 / 10000: loss 2.259062\n",
      "iteration 4400 / 10000: loss 2.244689\n",
      "iteration 4500 / 10000: loss 2.235633\n",
      "iteration 4600 / 10000: loss 2.256623\n",
      "iteration 4700 / 10000: loss 2.240439\n",
      "iteration 4800 / 10000: loss 2.266436\n",
      "iteration 4900 / 10000: loss 2.254985\n",
      "iteration 5000 / 10000: loss 2.273363\n",
      "iteration 5100 / 10000: loss 2.254108\n",
      "iteration 5200 / 10000: loss 2.236138\n",
      "iteration 5300 / 10000: loss 2.245979\n",
      "iteration 5400 / 10000: loss 2.245553\n",
      "iteration 5500 / 10000: loss 2.252549\n",
      "iteration 5600 / 10000: loss 2.237534\n",
      "iteration 5700 / 10000: loss 2.272185\n",
      "iteration 5800 / 10000: loss 2.265651\n",
      "iteration 5900 / 10000: loss 2.253744\n",
      "iteration 6000 / 10000: loss 2.273539\n",
      "iteration 6100 / 10000: loss 2.239002\n",
      "iteration 6200 / 10000: loss 2.260519\n",
      "iteration 6300 / 10000: loss 2.250810\n",
      "iteration 6400 / 10000: loss 2.263523\n",
      "iteration 6500 / 10000: loss 2.256684\n",
      "iteration 6600 / 10000: loss 2.257326\n",
      "iteration 6700 / 10000: loss 2.247481\n",
      "iteration 6800 / 10000: loss 2.256348\n",
      "iteration 6900 / 10000: loss 2.243695\n",
      "iteration 7000 / 10000: loss 2.269776\n",
      "iteration 7100 / 10000: loss 2.282041\n",
      "iteration 7200 / 10000: loss 2.248430\n",
      "iteration 7300 / 10000: loss 2.245321\n",
      "iteration 7400 / 10000: loss 2.263109\n",
      "iteration 7500 / 10000: loss 2.245284\n",
      "iteration 7600 / 10000: loss 2.236065\n",
      "iteration 7700 / 10000: loss 2.247705\n",
      "iteration 7800 / 10000: loss 2.249277\n",
      "iteration 7900 / 10000: loss 2.294344\n",
      "iteration 8000 / 10000: loss 2.245238\n",
      "iteration 8100 / 10000: loss 2.250381\n",
      "iteration 8200 / 10000: loss 2.260544\n",
      "iteration 8300 / 10000: loss 2.264660\n",
      "iteration 8400 / 10000: loss 2.238887\n",
      "iteration 8500 / 10000: loss 2.257219\n",
      "iteration 8600 / 10000: loss 2.261248\n",
      "iteration 8700 / 10000: loss 2.240533\n",
      "iteration 8800 / 10000: loss 2.258472\n",
      "iteration 8900 / 10000: loss 2.279707\n",
      "iteration 9000 / 10000: loss 2.263743\n",
      "iteration 9100 / 10000: loss 2.255417\n",
      "iteration 9200 / 10000: loss 2.229991\n",
      "iteration 9300 / 10000: loss 2.235549\n",
      "iteration 9400 / 10000: loss 2.228754\n",
      "iteration 9500 / 10000: loss 2.249952\n",
      "iteration 9600 / 10000: loss 2.256583\n",
      "iteration 9700 / 10000: loss 2.264998\n",
      "iteration 9800 / 10000: loss 2.253068\n",
      "iteration 9900 / 10000: loss 2.261613\n",
      "That took 44.566100s\n"
     ]
    }
   ],
   "source": [
    "# In the file linear_classifier.py, implement SGD in the function\n",
    "# LinearClassifier.train() and then run it with the code below.\n",
    "from cs231n.classifiers import Softmax\n",
    "softmax = Softmax()\n",
    "tic = time.time()\n",
    "loss_hist = softmax.train(X_train, y_train, learning_rate=5e-7, reg=5e5,\n",
    "                      num_iters=10000, verbose=True)\n",
    "toc = time.time()\n",
    "print 'That took %fs' % (toc - tic)"
   ]
  },
  {
   "cell_type": "code",
   "execution_count": 54,
   "metadata": {
    "collapsed": false
   },
   "outputs": [
    {
     "name": "stdout",
     "output_type": "stream",
     "text": [
      "softmax on raw pixels final test set accuracy: 0.286000\n"
     ]
    }
   ],
   "source": [
    "# evaluate on test set\n",
    "# Evaluate the best softmax on test set\n",
    "y_test_pred = softmax.predict(X_test)\n",
    "test_accuracy = np.mean(y_test == y_test_pred)\n",
    "print 'softmax on raw pixels final test set accuracy: %f' % (test_accuracy, )"
   ]
  },
  {
   "cell_type": "code",
   "execution_count": 53,
   "metadata": {
    "collapsed": false
   },
   "outputs": [
    {
     "data": {
      "image/png": "[encoded data removed]",
      "text/plain": [
       "<matplotlib.figure.Figure at 0x7fe3e6f3d690>"
      ]
     },
     "metadata": {},
     "output_type": "display_data"
    }
   ],
   "source": [
    "# Visualize the learned weights for each class\n",
    "w = softmax.W[:-1,:] # strip out the bias\n",
    "w = w.reshape(32, 32, 3, 10)\n",
    "\n",
    "w_min, w_max = np.min(w), np.max(w)\n",
    "\n",
    "classes = ['plane', 'car', 'bird', 'cat', 'deer', 'dog', 'frog', 'horse', 'ship', 'truck']\n",
    "for i in xrange(10):\n",
    "  plt.subplot(2, 5, i + 1)\n",
    "  \n",
    "  # Rescale the weights to be between 0 and 255\n",
    "  wimg = 255.0 * (w[:, :, :, i].squeeze() - w_min) / (w_max - w_min)\n",
    "  plt.imshow(wimg.astype('uint8'))\n",
    "  plt.axis('off')\n",
    "  plt.title(classes[i])"
   ]
  },
  {
   "cell_type": "code",
   "execution_count": null,
   "metadata": {
    "collapsed": true
   },
   "outputs": [],
   "source": []
  }
 ],
 "metadata": {
  "kernelspec": {
   "display_name": "Python [Root]",
   "language": "python",
   "name": "Python [Root]"
  },
  "language_info": {
   "codemirror_mode": {
    "name": "ipython",
    "version": 2
   },
   "file_extension": ".py",
   "mimetype": "text/x-python",
   "name": "python",
   "nbconvert_exporter": "python",
   "pygments_lexer": "ipython2",
   "version": "2.7.12"
  }
 },
 "nbformat": 4,
 "nbformat_minor": 0
}
